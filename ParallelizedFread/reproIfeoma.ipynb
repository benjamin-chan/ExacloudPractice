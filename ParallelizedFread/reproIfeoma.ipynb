{
 "cells": [
  {
   "cell_type": "markdown",
   "metadata": {},
   "source": [
    "# Reproduce Ifeoma's APAC_shrink_append.do script"
   ]
  },
  {
   "cell_type": "markdown",
   "metadata": {},
   "source": [
    "Get file information"
   ]
  },
  {
   "cell_type": "code",
   "execution_count": 1,
   "metadata": {
    "collapsed": false
   },
   "outputs": [
    {
     "data": {
      "text/html": [
       "<table>\n",
       "<thead><tr><th></th><th scope=col>size</th><th scope=col>mtime</th></tr></thead>\n",
       "<tbody>\n",
       "\t<tr><th scope=row>//CHSE/DataRepository/APAC/Raw/LimitedDatasets/Release20150902/Mcconn_episodes2010.txt</th><td>30869374063</td><td>2015-08-31 15:27:02</td></tr>\n",
       "\t<tr><th scope=row>//CHSE/DataRepository/APAC/Raw/LimitedDatasets/Release20150902/Mcconn_episodes2011.txt</th><td>43410281308</td><td>2015-08-31 16:30:25</td></tr>\n",
       "\t<tr><th scope=row>//CHSE/DataRepository/APAC/Raw/LimitedDatasets/Release20150902/Mcconn_episodes2012.txt</th><td>45270624481</td><td>2015-08-31 18:58:27</td></tr>\n",
       "\t<tr><th scope=row>//CHSE/DataRepository/APAC/Raw/LimitedDatasets/Release20150902/Mcconn_episodes2013.txt</th><td>45723795636</td><td>2015-09-01 14:35:55</td></tr>\n",
       "</tbody>\n",
       "</table>\n"
      ],
      "text/latex": [
       "\\begin{tabular}{r|ll}\n",
       "  & size & mtime\\\\\n",
       "\\hline\n",
       "\t//CHSE/DataRepository/APAC/Raw/LimitedDatasets/Release20150902/Mcconn_episodes2010.txt & 30869374063 & 2015-08-31 15:27:02\\\\\n",
       "\t//CHSE/DataRepository/APAC/Raw/LimitedDatasets/Release20150902/Mcconn_episodes2011.txt & 43410281308 & 2015-08-31 16:30:25\\\\\n",
       "\t//CHSE/DataRepository/APAC/Raw/LimitedDatasets/Release20150902/Mcconn_episodes2012.txt & 45270624481 & 2015-08-31 18:58:27\\\\\n",
       "\t//CHSE/DataRepository/APAC/Raw/LimitedDatasets/Release20150902/Mcconn_episodes2013.txt & 45723795636 & 2015-09-01 14:35:55\\\\\n",
       "\\end{tabular}\n"
      ],
      "text/plain": [
       "                                                                                              size\n",
       "//CHSE/DataRepository/APAC/Raw/LimitedDatasets/Release20150902/Mcconn_episodes2010.txt 30869374063\n",
       "//CHSE/DataRepository/APAC/Raw/LimitedDatasets/Release20150902/Mcconn_episodes2011.txt 43410281308\n",
       "//CHSE/DataRepository/APAC/Raw/LimitedDatasets/Release20150902/Mcconn_episodes2012.txt 45270624481\n",
       "//CHSE/DataRepository/APAC/Raw/LimitedDatasets/Release20150902/Mcconn_episodes2013.txt 45723795636\n",
       "                                                                                                     mtime\n",
       "//CHSE/DataRepository/APAC/Raw/LimitedDatasets/Release20150902/Mcconn_episodes2010.txt 2015-08-31 15:27:02\n",
       "//CHSE/DataRepository/APAC/Raw/LimitedDatasets/Release20150902/Mcconn_episodes2011.txt 2015-08-31 16:30:25\n",
       "//CHSE/DataRepository/APAC/Raw/LimitedDatasets/Release20150902/Mcconn_episodes2012.txt 2015-08-31 18:58:27\n",
       "//CHSE/DataRepository/APAC/Raw/LimitedDatasets/Release20150902/Mcconn_episodes2013.txt 2015-09-01 14:35:55"
      ]
     },
     "execution_count": 1,
     "metadata": {},
     "output_type": "execute_result"
    }
   ],
   "source": [
    "path <- \"//CHSE/DataRepository/APAC/Raw/LimitedDatasets/Release20150902\"\n",
    "f <- grep(\"episodes.*201[0-3]\\\\.txt\", list.files(path), ignore.case=TRUE, value=TRUE)\n",
    "f <- file.path(path, f)\n",
    "file.info(f)[c(\"size\", \"mtime\")]"
   ]
  },
  {
   "cell_type": "markdown",
   "metadata": {},
   "source": [
    "Specify file characteristics\n",
    "\n",
    "* Column names\n",
    "* Column classes\n",
    "* Columns to select\n",
    "* NA strings"
   ]
  },
  {
   "cell_type": "code",
   "execution_count": 2,
   "metadata": {
    "collapsed": false,
    "scrolled": false
   },
   "outputs": [],
   "source": [
    "library(data.table)\n",
    "varnames <- names(fread(f[1], nrows=0))\n",
    "names(varnames) <- 1:length(varnames)\n",
    "select <- c(7, 13, 14, 15, 16, 23, 24, 35, 36:48, 62:74, 75:79, 98)\n",
    "colClasses <- rep(\"character\", length(varnames))\n",
    "colClasses[varnames %in% c(\"patid\", \"personkey\", \"yob\", \"megnum\")] <- \"integer\"\n",
    "names(colClasses) <- varnames\n",
    "na.strings <- c(\"NA\", \"*N\", \"*NU\", \"*NUL\", \"*NULL\", \"*NULL*\", \"\")"
   ]
  },
  {
   "cell_type": "markdown",
   "metadata": {},
   "source": [
    "Parallelize the file reads"
   ]
  },
  {
   "cell_type": "code",
   "execution_count": 3,
   "metadata": {
    "collapsed": false
   },
   "outputs": [
    {
     "name": "stderr",
     "output_type": "stream",
     "text": [
      "Loading required package: foreach\n",
      "Loading required package: iterators\n",
      "Loading required package: parallel\n"
     ]
    },
    {
     "data": {
      "text/html": [
       "<table>\n",
       "<thead><tr><th></th><th scope=col>year</th><th scope=col>gender</th><th scope=col>N</th><th scope=col>minYOB</th><th scope=col>maxYOB</th></tr></thead>\n",
       "<tbody>\n",
       "\t<tr><th scope=row>1</th><td>2010</td><td>F</td><td>31257</td><td>1955</td><td>2000</td></tr>\n",
       "\t<tr><th scope=row>2</th><td>2011</td><td>F</td><td>7605</td><td>1956</td><td>2001</td></tr>\n",
       "\t<tr><th scope=row>3</th><td>2012</td><td>F</td><td>24186</td><td>1957</td><td>2002</td></tr>\n",
       "\t<tr><th scope=row>4</th><td>2013</td><td>F</td><td>12366</td><td>1958</td><td>2003</td></tr>\n",
       "</tbody>\n",
       "</table>\n"
      ],
      "text/latex": [
       "\\begin{tabular}{r|lllll}\n",
       "  & year & gender & N & minYOB & maxYOB\\\\\n",
       "\\hline\n",
       "\t1 & 2010 & F & 31257 & 1955 & 2000\\\\\n",
       "\t2 & 2011 & F & 7605 & 1956 & 2001\\\\\n",
       "\t3 & 2012 & F & 24186 & 1957 & 2002\\\\\n",
       "\t4 & 2013 & F & 12366 & 1958 & 2003\\\\\n",
       "\\end{tabular}\n"
      ],
      "text/plain": [
       "   year gender     N minYOB maxYOB\n",
       "1: 2010      F 31257   1955   2000\n",
       "2: 2011      F  7605   1956   2001\n",
       "3: 2012      F 24186   1957   2002\n",
       "4: 2013      F 12366   1958   2003"
      ]
     },
     "execution_count": 3,
     "metadata": {},
     "output_type": "execute_result"
    }
   ],
   "source": [
    "library(\"doParallel\")\n",
    "years <- length(f)\n",
    "cl <- makeCluster(years)\n",
    "registerDoParallel(cl, cores=years)\n",
    "L <- foreach (i = 1:years) %dopar% {\n",
    "    require(data.table)\n",
    "    Di <- fread(f[i], nrow=1e5, select=select, colClasses=colClasses, na.strings=na.strings)\n",
    "    Di <- Di[gender != \"M\" & between(yob, 1955 + (i - 1), 2000 + (i - 1))]\n",
    "    Di <- Di[,\n",
    "             `:=` (fromdate = as.Date(fromdate),\n",
    "                   todate = as.Date(todate))]\n",
    "    Di\n",
    "}\n",
    "stopCluster(cl)\n",
    "D <- rbindlist(L)\n",
    "D[, .(.N, minYOB = min(yob), maxYOB = max(yob)), .(year(fromdate), gender)]"
   ]
  },
  {
   "cell_type": "markdown",
   "metadata": {},
   "source": [
    "Write to Stata `.dta` file"
   ]
  },
  {
   "cell_type": "code",
   "execution_count": 4,
   "metadata": {
    "collapsed": false
   },
   "outputs": [
    {
     "data": {
      "text/html": [
       "<table>\n",
       "<thead><tr><th></th><th scope=col>size</th><th scope=col>mtime</th></tr></thead>\n",
       "<tbody>\n",
       "\t<tr><th scope=row>F:/OD11ObGynHardStop/Data/APAC_episodes_childbearingwomen.dta</th><td>11997422</td><td>2016-05-20 06:50:15</td></tr>\n",
       "</tbody>\n",
       "</table>\n"
      ],
      "text/latex": [
       "\\begin{tabular}{r|ll}\n",
       "  & size & mtime\\\\\n",
       "\\hline\n",
       "\tF:/OD11ObGynHardStop/Data/APAC_episodes_childbearingwomen.dta & 11997422 & 2016-05-20 06:50:15\\\\\n",
       "\\end{tabular}\n"
      ],
      "text/plain": [
       "                                                                  size\n",
       "F:/OD11ObGynHardStop/Data/APAC_episodes_childbearingwomen.dta 11997422\n",
       "                                                                            mtime\n",
       "F:/OD11ObGynHardStop/Data/APAC_episodes_childbearingwomen.dta 2016-05-20 06:50:15"
      ]
     },
     "execution_count": 4,
     "metadata": {},
     "output_type": "execute_result"
    },
    {
     "name": "stderr",
     "output_type": "stream",
     "text": [
      "Size of data.table() object D is 0.0236 GB\n"
     ]
    },
    {
     "name": "stdout",
     "output_type": "stream",
     "text": [
      "Classes 'data.table' and 'data.frame':\t75414 obs. of  40 variables:\n",
      " $ apac_payer: chr  \"MCO\" \"MCO\" \"MCO\" \"MCO\" ...\n",
      " $ patid     : int  2336687 3998961 3998961 3998961 3998961 4107598 3024345 1911465 3998961 1959472 ...\n",
      " $ personkey : int  7892947 7251101 7251101 7251101 7251101 1798306 4164607 7258740 7251101 7243618 ...\n",
      " $ gender    : chr  \"F\" \"F\" \"F\" \"F\" ...\n",
      " $ yob       : int  1999 1986 1986 1986 1986 1994 1985 2000 1986 1963 ...\n",
      " $ fromdate  : Date, format: \"2010-01-07\" \"2010-04-20\" ...\n",
      " $ todate    : Date, format: \"2010-01-07\" \"2010-04-20\" ...\n",
      " $ hcg       : chr  \"P99c\" \"P99c\" \"P99c\" \"P99c\" ...\n",
      " $ dx1       : chr  NA NA NA NA ...\n",
      " $ dx2       : chr  NA NA NA NA ...\n",
      " $ dx3       : chr  NA NA NA NA ...\n",
      " $ dx4       : chr  NA NA NA NA ...\n",
      " $ dx5       : chr  NA NA NA NA ...\n",
      " $ dx6       : chr  NA NA NA NA ...\n",
      " $ dx7       : chr  NA NA NA NA ...\n",
      " $ dx8       : chr  NA NA NA NA ...\n",
      " $ dx9       : chr  NA NA NA NA ...\n",
      " $ dx10      : chr  NA NA NA NA ...\n",
      " $ dx11      : chr  NA NA NA NA ...\n",
      " $ dx12      : chr  NA NA NA NA ...\n",
      " $ dx13      : chr  NA NA NA NA ...\n",
      " $ px1       : chr  NA NA NA NA ...\n",
      " $ px2       : chr  NA NA NA NA ...\n",
      " $ px3       : chr  NA NA NA NA ...\n",
      " $ px4       : chr  NA NA NA NA ...\n",
      " $ px5       : chr  NA NA NA NA ...\n",
      " $ px6       : chr  NA NA NA NA ...\n",
      " $ px7       : chr  NA NA NA NA ...\n",
      " $ px8       : chr  NA NA NA NA ...\n",
      " $ px9       : chr  NA NA NA NA ...\n",
      " $ px10      : chr  NA NA NA NA ...\n",
      " $ px11      : chr  NA NA NA NA ...\n",
      " $ px12      : chr  NA NA NA NA ...\n",
      " $ px13      : chr  NA NA NA NA ...\n",
      " $ proccode  : chr  \"15813\" \"16036\" \"15805\" \"15812\" ...\n",
      " $ mod1      : chr  \"0\" \"0\" \"0\" \"0\" ...\n",
      " $ mod2      : chr  \"0\" \"0\" \"0\" \"0\" ...\n",
      " $ mod3      : chr  NA NA NA NA ...\n",
      " $ mod4      : chr  NA NA NA NA ...\n",
      " $ megnum    : int  11391713 27566498 27566498 27566498 27566498 5384946 16270743 27703374 27566498 27424467 ...\n",
      " - attr(*, \".internal.selfref\")=<externalptr> \n"
     ]
    }
   ],
   "source": [
    "library(haven)\n",
    "path <- \"F:/OD11ObGynHardStop/Data\"\n",
    "f <- file.path(path, \"APAC_episodes_childbearingwomen.dta\")\n",
    "write_dta(D, f)\n",
    "file.info(f)[c(\"size\", \"mtime\")]\n",
    "message(sprintf(\"Size of data.table() object D is %.3g GB\", object.size(D) / 1e9))\n",
    "str(D)"
   ]
  }
 ],
 "metadata": {
  "kernelspec": {
   "display_name": "R",
   "language": "R",
   "name": "ir"
  },
  "language_info": {
   "codemirror_mode": "r",
   "file_extension": ".r",
   "mimetype": "text/x-r-source",
   "name": "R",
   "pygments_lexer": "r",
   "version": "3.2.2"
  }
 },
 "nbformat": 4,
 "nbformat_minor": 0
}
